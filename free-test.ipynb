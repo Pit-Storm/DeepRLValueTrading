{
 "metadata": {
  "language_info": {
   "codemirror_mode": {
    "name": "ipython",
    "version": 3
   },
   "file_extension": ".py",
   "mimetype": "text/x-python",
   "name": "python",
   "nbconvert_exporter": "python",
   "pygments_lexer": "ipython3",
   "version": "3.7.9-final"
  },
  "orig_nbformat": 2,
  "kernelspec": {
   "name": "Python 3.7.9 64-bit",
   "display_name": "Python 3.7.9 64-bit",
   "metadata": {
    "interpreter": {
     "hash": "4cd7ab41f5fca4b9b44701077e38c5ffd31fe66a6cab21e0214b68d958d0e462"
    }
   }
  }
 },
 "nbformat": 4,
 "nbformat_minor": 2,
 "cells": [
  {
   "cell_type": "code",
   "execution_count": 1,
   "metadata": {},
   "outputs": [],
   "source": [
    "# Inspired by https://github.com/femtotrader/python-eodhistoricaldata/blob/master/eod_historical_data/data.py\n",
    "import requests\n",
    "import os\n"
   ]
  },
  {
   "cell_type": "code",
   "execution_count": 2,
   "metadata": {},
   "outputs": [],
   "source": [
    "# Set testing Key if API_KEY does not exist\n",
    "if os.environ.get(\"API_KEY\") == None:\n",
    "    os.environ[\"API_KEY\"] = \"OeAFFmMliFG5orCUuwAKQ8l4WWFQ67YX\" "
   ]
  },
  {
   "cell_type": "code",
   "execution_count": 4,
   "metadata": {},
   "outputs": [],
   "source": [
    "base_url = \"https://eodhistoricaldata.com/api/\"\n",
    "data_type = \"eod/\"\n",
    "symbol = \"MCD\"\n",
    "exchange = \"US\"\n",
    "symb_exch = symbol + \".\" + exchange\n",
    "api_token = os.environ.get(\"API_KEY\")\n",
    "period = \"d\"\n",
    "order = \"a\"\n",
    "fmt = \"json\"\n",
    "\n",
    "params = {\n",
    "    \"api_token\": api_token,\n",
    "    \"period\": period,\n",
    "    \"order\": order,\n",
    "    \"fmt\": fmt\n",
    "}\n",
    "\n",
    "url = base_url + data_type + symb_exch"
   ]
  },
  {
   "cell_type": "code",
   "execution_count": 5,
   "metadata": {},
   "outputs": [],
   "source": [
    "r = requests.get(url=url, params=params)"
   ]
  },
  {
   "cell_type": "code",
   "execution_count": 6,
   "metadata": {},
   "outputs": [
    {
     "output_type": "execute_result",
     "data": {
      "text/plain": [
       "200"
      ]
     },
     "metadata": {},
     "execution_count": 6
    }
   ],
   "source": [
    "r.status_code"
   ]
  },
  {
   "cell_type": "code",
   "execution_count": 9,
   "metadata": {
    "tags": []
   },
   "outputs": [],
   "source": [
    "import pandas as pd\n",
    "\n",
    "df = pd.DataFrame.from_dict(data = r.json())"
   ]
  },
  {
   "cell_type": "code",
   "execution_count": 10,
   "metadata": {},
   "outputs": [
    {
     "output_type": "execute_result",
     "data": {
      "text/plain": [
       "         date    open    high     low   close  adjusted_close  volume\n",
       "0  1980-03-17  37.007  37.625  36.754  37.007          0.3666  118501\n",
       "1  1980-03-18  37.503  37.756  36.875  37.503          0.3711  293101\n",
       "2  1980-03-19  37.878  38.131  37.382  37.878          0.3747   89901\n",
       "3  1980-03-20  37.503  38.131  37.128  37.503          0.3711   62501\n",
       "4  1980-03-21  37.128  37.625  37.128  37.128          0.3678   48901"
      ],
      "text/html": "<div>\n<style scoped>\n    .dataframe tbody tr th:only-of-type {\n        vertical-align: middle;\n    }\n\n    .dataframe tbody tr th {\n        vertical-align: top;\n    }\n\n    .dataframe thead th {\n        text-align: right;\n    }\n</style>\n<table border=\"1\" class=\"dataframe\">\n  <thead>\n    <tr style=\"text-align: right;\">\n      <th></th>\n      <th>date</th>\n      <th>open</th>\n      <th>high</th>\n      <th>low</th>\n      <th>close</th>\n      <th>adjusted_close</th>\n      <th>volume</th>\n    </tr>\n  </thead>\n  <tbody>\n    <tr>\n      <th>0</th>\n      <td>1980-03-17</td>\n      <td>37.007</td>\n      <td>37.625</td>\n      <td>36.754</td>\n      <td>37.007</td>\n      <td>0.3666</td>\n      <td>118501</td>\n    </tr>\n    <tr>\n      <th>1</th>\n      <td>1980-03-18</td>\n      <td>37.503</td>\n      <td>37.756</td>\n      <td>36.875</td>\n      <td>37.503</td>\n      <td>0.3711</td>\n      <td>293101</td>\n    </tr>\n    <tr>\n      <th>2</th>\n      <td>1980-03-19</td>\n      <td>37.878</td>\n      <td>38.131</td>\n      <td>37.382</td>\n      <td>37.878</td>\n      <td>0.3747</td>\n      <td>89901</td>\n    </tr>\n    <tr>\n      <th>3</th>\n      <td>1980-03-20</td>\n      <td>37.503</td>\n      <td>38.131</td>\n      <td>37.128</td>\n      <td>37.503</td>\n      <td>0.3711</td>\n      <td>62501</td>\n    </tr>\n    <tr>\n      <th>4</th>\n      <td>1980-03-21</td>\n      <td>37.128</td>\n      <td>37.625</td>\n      <td>37.128</td>\n      <td>37.128</td>\n      <td>0.3678</td>\n      <td>48901</td>\n    </tr>\n  </tbody>\n</table>\n</div>"
     },
     "metadata": {},
     "execution_count": 10
    }
   ],
   "source": [
    "df.head()"
   ]
  },
  {
   "cell_type": "code",
   "execution_count": 11,
   "metadata": {},
   "outputs": [
    {
     "output_type": "execute_result",
     "data": {
      "text/plain": [
       "               open          high           low         close  adjusted_close  \\\n",
       "count  10235.000000  10235.000000  10235.000000  10235.000000    10235.000000   \n",
       "mean      67.330130     67.924104     66.734081     67.350705       38.373434   \n",
       "std       42.788604     43.065892     42.521365     42.798000       50.699095   \n",
       "min       12.420000     12.550000     12.120000     12.380000        0.358800   \n",
       "25%       37.625000     38.125000     37.128000     37.740000        4.238400   \n",
       "50%       55.626000     56.260000     55.020000     55.640000       16.574200   \n",
       "75%       79.980000     80.893500     79.260500     80.064000       54.041550   \n",
       "max      228.410000    230.000000    227.350000    229.640000      229.640000   \n",
       "\n",
       "             volume  \n",
       "count  1.023500e+04  \n",
       "mean   3.499869e+06  \n",
       "std    3.635937e+06  \n",
       "min    0.000000e+00  \n",
       "25%    6.013500e+05  \n",
       "50%    2.753500e+06  \n",
       "75%    5.233831e+06  \n",
       "max    8.698180e+07  "
      ],
      "text/html": "<div>\n<style scoped>\n    .dataframe tbody tr th:only-of-type {\n        vertical-align: middle;\n    }\n\n    .dataframe tbody tr th {\n        vertical-align: top;\n    }\n\n    .dataframe thead th {\n        text-align: right;\n    }\n</style>\n<table border=\"1\" class=\"dataframe\">\n  <thead>\n    <tr style=\"text-align: right;\">\n      <th></th>\n      <th>open</th>\n      <th>high</th>\n      <th>low</th>\n      <th>close</th>\n      <th>adjusted_close</th>\n      <th>volume</th>\n    </tr>\n  </thead>\n  <tbody>\n    <tr>\n      <th>count</th>\n      <td>10235.000000</td>\n      <td>10235.000000</td>\n      <td>10235.000000</td>\n      <td>10235.000000</td>\n      <td>10235.000000</td>\n      <td>1.023500e+04</td>\n    </tr>\n    <tr>\n      <th>mean</th>\n      <td>67.330130</td>\n      <td>67.924104</td>\n      <td>66.734081</td>\n      <td>67.350705</td>\n      <td>38.373434</td>\n      <td>3.499869e+06</td>\n    </tr>\n    <tr>\n      <th>std</th>\n      <td>42.788604</td>\n      <td>43.065892</td>\n      <td>42.521365</td>\n      <td>42.798000</td>\n      <td>50.699095</td>\n      <td>3.635937e+06</td>\n    </tr>\n    <tr>\n      <th>min</th>\n      <td>12.420000</td>\n      <td>12.550000</td>\n      <td>12.120000</td>\n      <td>12.380000</td>\n      <td>0.358800</td>\n      <td>0.000000e+00</td>\n    </tr>\n    <tr>\n      <th>25%</th>\n      <td>37.625000</td>\n      <td>38.125000</td>\n      <td>37.128000</td>\n      <td>37.740000</td>\n      <td>4.238400</td>\n      <td>6.013500e+05</td>\n    </tr>\n    <tr>\n      <th>50%</th>\n      <td>55.626000</td>\n      <td>56.260000</td>\n      <td>55.020000</td>\n      <td>55.640000</td>\n      <td>16.574200</td>\n      <td>2.753500e+06</td>\n    </tr>\n    <tr>\n      <th>75%</th>\n      <td>79.980000</td>\n      <td>80.893500</td>\n      <td>79.260500</td>\n      <td>80.064000</td>\n      <td>54.041550</td>\n      <td>5.233831e+06</td>\n    </tr>\n    <tr>\n      <th>max</th>\n      <td>228.410000</td>\n      <td>230.000000</td>\n      <td>227.350000</td>\n      <td>229.640000</td>\n      <td>229.640000</td>\n      <td>8.698180e+07</td>\n    </tr>\n  </tbody>\n</table>\n</div>"
     },
     "metadata": {},
     "execution_count": 11
    }
   ],
   "source": [
    "df.describe()"
   ]
  },
  {
   "cell_type": "code",
   "execution_count": 20,
   "metadata": {},
   "outputs": [],
   "source": [
    "df[\"date\"] = pd.to_datetime(arg=df[\"date\"], format=\"%Y-%m-%d\")"
   ]
  },
  {
   "cell_type": "code",
   "execution_count": 22,
   "metadata": {},
   "outputs": [
    {
     "output_type": "execute_result",
     "data": {
      "text/plain": [
       "count                   10235\n",
       "unique                  10235\n",
       "top       1989-12-27 00:00:00\n",
       "freq                        1\n",
       "first     1980-03-17 00:00:00\n",
       "last      2020-10-15 00:00:00\n",
       "Name: date, dtype: object"
      ]
     },
     "metadata": {},
     "execution_count": 22
    }
   ],
   "source": [
    "df[\"date\"].describe()"
   ]
  },
  {
   "cell_type": "code",
   "execution_count": 27,
   "metadata": {},
   "outputs": [],
   "source": [
    "df[\"volume\"] = df[\"volume\"].astype(\"Int32\")"
   ]
  },
  {
   "cell_type": "code",
   "execution_count": 28,
   "metadata": {},
   "outputs": [
    {
     "output_type": "execute_result",
     "data": {
      "text/plain": [
       "count    1.023500e+04\n",
       "mean     3.499869e+06\n",
       "std      3.635937e+06\n",
       "min      0.000000e+00\n",
       "25%      6.013500e+05\n",
       "50%      2.753500e+06\n",
       "75%      5.233831e+06\n",
       "max      8.698180e+07\n",
       "Name: volume, dtype: float64"
      ]
     },
     "metadata": {},
     "execution_count": 28
    }
   ],
   "source": [
    "df[\"volume\"].describe()"
   ]
  },
  {
   "cell_type": "code",
   "execution_count": null,
   "metadata": {},
   "outputs": [],
   "source": []
  }
 ]
}